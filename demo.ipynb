{
 "cells": [
  {
   "cell_type": "markdown",
   "id": "2fb7f409-51c8-4a1d-8fd0-fff05d4f3775",
   "metadata": {},
   "source": [
    "### Basic usage"
   ]
  },
  {
   "cell_type": "markdown",
   "id": "f61f497a-8946-4d4e-84a1-ee74e82ce801",
   "metadata": {},
   "source": [
    "<b>Slimy</b> uses selenium to pass Google reCAPTCHA. Basic demo is shown below."
   ]
  },
  {
   "cell_type": "code",
   "execution_count": 1,
   "id": "44b3bc5f-e549-4577-833c-78f9f056c4f7",
   "metadata": {},
   "outputs": [],
   "source": [
    "from selenium import webdriver\n",
    "from selenium.webdriver.chrome.service import Service\n",
    "from webdriver_manager.chrome import ChromeDriverManager\n",
    "\n",
    "from slimy import captcha\n",
    "\n",
    "# start chrome\n",
    "driver = webdriver.Chrome(service = Service(ChromeDriverManager().install()))\n",
    "\n",
    "# open some url with reCAPTCHA\n",
    "url = 'https://www.google.com/recaptcha/api2/demo'\n",
    "driver.get(url)"
   ]
  },
  {
   "cell_type": "code",
   "execution_count": 3,
   "id": "31945760-6f8b-493b-b989-936e26501f82",
   "metadata": {},
   "outputs": [
    {
     "name": "stdout",
     "output_type": "stream",
     "text": [
      "CPU times: user 1.62 s, sys: 87.8 ms, total: 1.71 s\n",
      "Wall time: 31 s\n"
     ]
    }
   ],
   "source": [
    "%%time\n",
    "\n",
    "# captcha class tries to locate captcha and click it through.\n",
    "is_successful = captcha(driver).pass_captcha()\n",
    "if is_successful:\n",
    "    print('captcha passed')\n",
    "else:\n",
    "    print('captcha NOT passed')"
   ]
  }
 ],
 "metadata": {
  "kernelspec": {
   "display_name": "Python 3 (ipykernel)",
   "language": "python",
   "name": "python3"
  },
  "language_info": {
   "codemirror_mode": {
    "name": "ipython",
    "version": 3
   },
   "file_extension": ".py",
   "mimetype": "text/x-python",
   "name": "python",
   "nbconvert_exporter": "python",
   "pygments_lexer": "ipython3",
   "version": "3.9.13"
  }
 },
 "nbformat": 4,
 "nbformat_minor": 5
}
